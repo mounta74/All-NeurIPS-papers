{
  "cells": [
    {
      "cell_type": "markdown",
      "metadata": {
        "id": "view-in-github",
        "colab_type": "text"
      },
      "source": [
        "<a href=\"https://colab.research.google.com/github/mounta74/All-NeurIPS-papers_classification/blob/main/scratchpad.ipynb\" target=\"_parent\"><img src=\"https://colab.research.google.com/assets/colab-badge.svg\" alt=\"Open In Colab\"/></a>"
      ]
    },
    {
      "cell_type": "code",
      "execution_count": 9,
      "metadata": {
        "id": "lIYdn1woOS1n"
      },
      "outputs": [],
      "source": [
        "import numpy as np\n",
        "\n",
        "a = np.random.randn(5, 1)"
      ]
    },
    {
      "cell_type": "code",
      "source": [
        "print(a)"
      ],
      "metadata": {
        "colab": {
          "base_uri": "https://localhost:8080/"
        },
        "id": "3Wa7dFHBEK_c",
        "outputId": "cb6410ae-fdf1-4c4f-be87-345bde511d58"
      },
      "execution_count": 10,
      "outputs": [
        {
          "output_type": "stream",
          "name": "stdout",
          "text": [
            "[[ 0.90653524]\n",
            " [ 1.05798937]\n",
            " [-0.92916279]\n",
            " [ 0.09529277]\n",
            " [-0.05510579]]\n"
          ]
        }
      ]
    },
    {
      "cell_type": "code",
      "source": [
        "print(a.shape)"
      ],
      "metadata": {
        "colab": {
          "base_uri": "https://localhost:8080/"
        },
        "id": "dFGv2ZuVEUbq",
        "outputId": "7f0e1808-709f-4b0b-fa08-bfab78580e50"
      },
      "execution_count": 11,
      "outputs": [
        {
          "output_type": "stream",
          "name": "stdout",
          "text": [
            "(5, 1)\n"
          ]
        }
      ]
    },
    {
      "cell_type": "code",
      "source": [
        "print(a.T)"
      ],
      "metadata": {
        "colab": {
          "base_uri": "https://localhost:8080/"
        },
        "id": "t4o3A74PEd4z",
        "outputId": "0f6a4056-f850-4215-b1d5-0be92b547824"
      },
      "execution_count": 12,
      "outputs": [
        {
          "output_type": "stream",
          "name": "stdout",
          "text": [
            "[[ 0.90653524  1.05798937 -0.92916279  0.09529277 -0.05510579]]\n"
          ]
        }
      ]
    },
    {
      "cell_type": "code",
      "source": [
        "print(np.dot(a, a.T))"
      ],
      "metadata": {
        "colab": {
          "base_uri": "https://localhost:8080/"
        },
        "id": "G0ugVG5iEmTj",
        "outputId": "aebcc2c0-667f-49dc-c870-8d94b00c9128"
      },
      "execution_count": 13,
      "outputs": [
        {
          "output_type": "stream",
          "name": "stdout",
          "text": [
            "[[ 0.82180615  0.95910465 -0.84231882  0.08638625 -0.04995534]\n",
            " [ 0.95910465  1.11934151 -0.98304435  0.10081873 -0.05830134]\n",
            " [-0.84231882 -0.98304435  0.86334349 -0.08854249  0.05120225]\n",
            " [ 0.08638625  0.10081873 -0.08854249  0.00908071 -0.00525118]\n",
            " [-0.04995534 -0.05830134  0.05120225 -0.00525118  0.00303665]]\n"
          ]
        }
      ]
    },
    {
      "cell_type": "code",
      "source": [
        "b = np.dot(a, a.T)"
      ],
      "metadata": {
        "id": "RV5c4s10FTng"
      },
      "execution_count": 14,
      "outputs": []
    },
    {
      "cell_type": "code",
      "source": [
        "print(b.shape)"
      ],
      "metadata": {
        "colab": {
          "base_uri": "https://localhost:8080/"
        },
        "id": "6lCTDLvkFVjd",
        "outputId": "d0c819c4-f01b-47ac-c5e5-27a2061e0d26"
      },
      "execution_count": 15,
      "outputs": [
        {
          "output_type": "stream",
          "name": "stdout",
          "text": [
            "(5, 5)\n"
          ]
        }
      ]
    },
    {
      "cell_type": "code",
      "source": [
        "c = np.random.randn(5, 2)"
      ],
      "metadata": {
        "id": "3X31UYO_Fpv8"
      },
      "execution_count": 16,
      "outputs": []
    },
    {
      "cell_type": "code",
      "source": [
        "print(c)"
      ],
      "metadata": {
        "colab": {
          "base_uri": "https://localhost:8080/"
        },
        "id": "RSzApF-FFx4O",
        "outputId": "87d754ca-8e44-47e9-e209-1a8b18c2608f"
      },
      "execution_count": 17,
      "outputs": [
        {
          "output_type": "stream",
          "name": "stdout",
          "text": [
            "[[-1.38583152  0.25136093]\n",
            " [-0.64531435  0.19904015]\n",
            " [-1.73167337  0.10675001]\n",
            " [ 0.97396234  1.42516435]\n",
            " [ 1.8256538  -0.06146161]]\n"
          ]
        }
      ]
    },
    {
      "cell_type": "code",
      "source": [
        "cc = np.dot(c.T, c)"
      ],
      "metadata": {
        "id": "HW8El__zF1Bg"
      },
      "execution_count": 21,
      "outputs": []
    },
    {
      "cell_type": "code",
      "source": [
        "cc.shape"
      ],
      "metadata": {
        "colab": {
          "base_uri": "https://localhost:8080/"
        },
        "id": "KO8-UZw6F8hq",
        "outputId": "141a6979-b907-47e0-a985-ff8cb485d084"
      },
      "execution_count": 22,
      "outputs": [
        {
          "output_type": "execute_result",
          "data": {
            "text/plain": [
              "(2, 2)"
            ]
          },
          "metadata": {},
          "execution_count": 22
        }
      ]
    },
    {
      "cell_type": "code",
      "source": [
        "a = np.random.randn(5, 1)"
      ],
      "metadata": {
        "id": "lx-dusbMJp2I"
      },
      "execution_count": null,
      "outputs": []
    },
    {
      "cell_type": "code",
      "source": [
        "a = np.random.randn(1, 5)"
      ],
      "metadata": {
        "id": "0_Llhe6OJ5uM"
      },
      "execution_count": null,
      "outputs": []
    },
    {
      "cell_type": "code",
      "source": [
        "b = np.random.randn(5)"
      ],
      "metadata": {
        "id": "iQfuNvBwJ8t3"
      },
      "execution_count": 27,
      "outputs": []
    },
    {
      "cell_type": "code",
      "source": [
        "b = b.reshape((5, 1))"
      ],
      "metadata": {
        "id": "yZQCmTVXKflM"
      },
      "execution_count": 28,
      "outputs": []
    },
    {
      "cell_type": "code",
      "source": [
        "b"
      ],
      "metadata": {
        "colab": {
          "base_uri": "https://localhost:8080/"
        },
        "id": "FaAp83TUKzM6",
        "outputId": "7b2db164-76f0-477b-8112-d764bdb3fcc4"
      },
      "execution_count": 29,
      "outputs": [
        {
          "output_type": "execute_result",
          "data": {
            "text/plain": [
              "array([[ 0.74244205],\n",
              "       [-0.21230284],\n",
              "       [-0.69512749],\n",
              "       [-1.07700183],\n",
              "       [ 0.28236649]])"
            ]
          },
          "metadata": {},
          "execution_count": 29
        }
      ]
    }
  ],
  "metadata": {
    "colab": {
      "name": "scratchpad",
      "provenance": [],
      "include_colab_link": true
    },
    "kernelspec": {
      "display_name": "Python 3",
      "name": "python3"
    }
  },
  "nbformat": 4,
  "nbformat_minor": 0
}